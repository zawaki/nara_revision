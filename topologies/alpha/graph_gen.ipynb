{
 "cells": [
  {
   "cell_type": "code",
   "execution_count": 1,
   "metadata": {},
   "outputs": [],
   "source": [
    "%load_ext autoreload\n",
    "from AllocationFuncs.graph_gen import *"
   ]
  },
  {
   "cell_type": "code",
   "execution_count": 3,
   "metadata": {},
   "outputs": [
    {
     "data": {
      "image/png": "[encoded data removed]",
      "text/plain": [
       "<Figure size 432x288 with 1 Axes>"
      ]
     },
     "metadata": {},
     "output_type": "display_data"
    }
   ],
   "source": [
    "%autoreload\n",
    "# seed = 16\n",
    "# pod_size = 8\n",
    "# super_pod_size = 4\n",
    "# fat_tree_no_intra_server_edge_features(save='./graph.txt',\n",
    "#             server_per_rack=0,\n",
    "#             number_of_racks=seed,\n",
    "#             rack_to_aggregate_link=int(seed/pod_size),\n",
    "#             aggregate_to_rack_link=int(seed/pod_size),\n",
    "#             aggregate_to_core_link=super_pod_size,\n",
    "#             core_to_aggregate_link=seed,\n",
    "#             server_label='Resource',\n",
    "#             rack_label='Rack',\n",
    "#             aggregate_label='Aggregate',\n",
    "#             core_label='Core',\n",
    "#             link_label='Link',\n",
    "#             show=True)\n",
    "\n",
    "# fat_tree(core_per_cluster = 5,\n",
    "#         rack_per_cluster = 5,\n",
    "#         num_clusters = 8,\n",
    "#         server_per_rack = 0,\n",
    "#         show=True,\n",
    "#         save=None)\n",
    "\n",
    "fabric(core_per_layer = 1,\n",
    "        max_core_layers = 2,\n",
    "        racks_per_pod = 2,\n",
    "        num_pods = 2,\n",
    "        server_per_rack = 10,\n",
    "        show=True,\n",
    "        save='./graph.txt'\n",
    "            )\n",
    "\n",
    "#4,2,2,4"
   ]
  },
  {
   "cell_type": "code",
   "execution_count": null,
   "metadata": {},
   "outputs": [],
   "source": [
    "from NetworkSimulator import NetworkManager\n",
    "import time\n",
    "\n",
    "man = NetworkManager('.')\n",
    "t = time.time()\n",
    "g = man.network.to_dgl_with_edges({'node':['node','mem'],'link':['ports']})\n",
    "print(g.edata['features'])"
   ]
  },
  {
   "cell_type": "code",
   "execution_count": null,
   "metadata": {},
   "outputs": [],
   "source": []
  }
 ],
 "metadata": {
  "kernelspec": {
   "display_name": "Python 3",
   "language": "python",
   "name": "python3"
  },
  "language_info": {
   "codemirror_mode": {
    "name": "ipython",
    "version": 3
   },
   "file_extension": ".py",
   "mimetype": "text/x-python",
   "name": "python",
   "nbconvert_exporter": "python",
   "pygments_lexer": "ipython3",
   "version": "3.6.7"
  }
 },
 "nbformat": 4,
 "nbformat_minor": 2
}
