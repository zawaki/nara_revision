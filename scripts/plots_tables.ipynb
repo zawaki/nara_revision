{
 "cells": [
  {
   "cell_type": "code",
   "execution_count": 4,
   "metadata": {},
   "outputs": [
    {
     "name": "stderr",
     "output_type": "stream",
     "text": [
      "/home/uceezs0/Code/nara_revision/scripts/plots_tables.py:7: MatplotlibDeprecationWarning: \n",
      "The mpl_toolkits.axes_grid module was deprecated in Matplotlib 2.1 and will be removed two minor releases later. Use mpl_toolkits.axes_grid1 and mpl_toolkits.axisartist, which provide the same functionality instead.\n",
      "  from mpl_toolkits.axes_grid.inset_locator import inset_axes\n"
     ]
    }
   ],
   "source": [
    "%load_ext autoreload\n",
    "import pandas as pd\n",
    "import os\n",
    "import numpy as np\n",
    "import seaborn as sns\n",
    "import matplotlib.pyplot as plt\n",
    "\n",
    "from plots_tables import get_ratio_probabilities,get_ratio_distributions,gen_plot_data,get_latex_table,get_metric_distributions,get_metric_line_plots,get_success_distribution,get_comparison_table"
   ]
  },
  {
   "cell_type": "code",
   "execution_count": 5,
   "metadata": {},
   "outputs": [],
   "source": [
    "#preamble\n",
    "%autoreload\n",
    "table_data,packer_stats,oversub,topologies = gen_plot_data()"
   ]
  },
  {
   "cell_type": "code",
   "execution_count": 29,
   "metadata": {},
   "outputs": [
    {
     "name": "stderr",
     "output_type": "stream",
     "text": [
      "/home/uceezs0/Code/nara_revision/scripts/plots_tables.py:80: UserWarning: loadtxt: Empty input file: \"/home/uceezs0/Code/nara_data/uniform/baselines/agent/32.0_256.0_256.0/failure_0.csv\"\n",
      "  cpu = np.loadtxt('{}_{}.csv'.format(path,i),skiprows=1,delimiter=',')\n",
      "/home/uceezs0/Code/nara_revision/scripts/plots_tables.py:83: UserWarning: loadtxt: Empty input file: \"/home/uceezs0/Code/nara_data/uniform/baselines/agent/32.0_256.0_256.0/failure_0.csv\"\n",
      "  mem = np.loadtxt('{}_{}.csv'.format(path,i),skiprows=1,delimiter=',')\n",
      "/home/uceezs0/Code/nara_revision/scripts/plots_tables.py:80: UserWarning: loadtxt: Empty input file: \"/home/uceezs0/Code/nara_data/uniform/baselines/agent/32.0_256.0_256.0/failure_1.csv\"\n",
      "  cpu = np.loadtxt('{}_{}.csv'.format(path,i),skiprows=1,delimiter=',')\n",
      "/home/uceezs0/Code/nara_revision/scripts/plots_tables.py:83: UserWarning: loadtxt: Empty input file: \"/home/uceezs0/Code/nara_data/uniform/baselines/agent/32.0_256.0_256.0/failure_1.csv\"\n",
      "  mem = np.loadtxt('{}_{}.csv'.format(path,i),skiprows=1,delimiter=',')\n",
      "/home/uceezs0/Code/nara_revision/scripts/plots_tables.py:80: UserWarning: loadtxt: Empty input file: \"/home/uceezs0/Code/nara_data/uniform/baselines/agent/32.0_256.0_256.0/failure_2.csv\"\n",
      "  cpu = np.loadtxt('{}_{}.csv'.format(path,i),skiprows=1,delimiter=',')\n",
      "/home/uceezs0/Code/nara_revision/scripts/plots_tables.py:83: UserWarning: loadtxt: Empty input file: \"/home/uceezs0/Code/nara_data/uniform/baselines/agent/32.0_256.0_256.0/failure_2.csv\"\n",
      "  mem = np.loadtxt('{}_{}.csv'.format(path,i),skiprows=1,delimiter=',')\n",
      "/home/uceezs0/Code/nara_revision/scripts/plots_tables.py:80: UserWarning: loadtxt: Empty input file: \"/home/uceezs0/Code/nara_data/uniform/baselines/agent/32.0_256.0_256.0/failure_3.csv\"\n",
      "  cpu = np.loadtxt('{}_{}.csv'.format(path,i),skiprows=1,delimiter=',')\n",
      "/home/uceezs0/Code/nara_revision/scripts/plots_tables.py:83: UserWarning: loadtxt: Empty input file: \"/home/uceezs0/Code/nara_data/uniform/baselines/agent/32.0_256.0_256.0/failure_3.csv\"\n",
      "  mem = np.loadtxt('{}_{}.csv'.format(path,i),skiprows=1,delimiter=',')\n",
      "/home/uceezs0/Code/nara_revision/scripts/plots_tables.py:80: UserWarning: loadtxt: Empty input file: \"/home/uceezs0/Code/nara_data/uniform/baselines/agent/32.0_256.0_256.0/failure_4.csv\"\n",
      "  cpu = np.loadtxt('{}_{}.csv'.format(path,i),skiprows=1,delimiter=',')\n",
      "/home/uceezs0/Code/nara_revision/scripts/plots_tables.py:83: UserWarning: loadtxt: Empty input file: \"/home/uceezs0/Code/nara_data/uniform/baselines/agent/32.0_256.0_256.0/failure_4.csv\"\n",
      "  mem = np.loadtxt('{}_{}.csv'.format(path,i),skiprows=1,delimiter=',')\n"
     ]
    },
    {
     "name": "stdout",
     "output_type": "stream",
     "text": [
      "[   0  190  818  812 1042  960  468  266   36]\n",
      "[  0 166 658 518 544 488 160  90  14]\n",
      "[  0 192 760 622 696 470  74 -50 -30]\n",
      "[   0  182  506  224  200  -42 -196 -276 -154]\n",
      "[   0  178  588  336  -28 -416 -440 -460 -224]\n"
     ]
    },
    {
     "data": {
      "image/png": "[encoded data removed]",
      "text/plain": [
       "<Figure size 864x216 with 1 Axes>"
      ]
     },
     "metadata": {
      "needs_background": "light"
     },
     "output_type": "display_data"
    }
   ],
   "source": [
    "%autoreload\n",
    "# get_comparison_table(packer_stats,topologies,oversub)\n",
    "# get_latex_table(table_data)\n",
    "# get_ratio_distributions(oversub,topologies,packer_stats)\n",
    "# get_ratio_probabilities(oversub,topologies,packer_stats)\n",
    "get_success_distribution('/home/uceezs0/Code/nara_data/uniform/baselines',topologies,oversub)#,oversub_selector=0.0625,channels_selector=8.0)\n",
    "# get_metric_line_plots(topologies,packer_stats,oversub,agent_normalised=False,channels_selector=None)"
   ]
  },
  {
   "cell_type": "code",
   "execution_count": 51,
   "metadata": {},
   "outputs": [
    {
     "name": "stdout",
     "output_type": "stream",
     "text": [
      "large\n",
      "\\begin{longtable}{llllllll}\n",
      "\\toprule\n",
      "Method &          Topology & Accpt. &   CPU &   Mem & SR-Link & RA-Link & AC-Link \\\\\n",
      "\\midrule\n",
      " agent &      8.0\\_16.0\\_4.0 &   0.73 &  0.54 &  0.56 &    0.57 &    0.97 &    0.82 \\\\\n",
      " agent &      8.0\\_32.0\\_8.0 &   0.74 &  0.53 &  0.58 &    0.57 &    0.97 &    0.80 \\\\\n",
      " agent &     8.0\\_32.0\\_16.0 &   0.75 &  0.54 &  0.59 &    0.57 &    0.95 &    0.83 \\\\\n",
      " agent &     8.0\\_64.0\\_64.0 &   0.75 &  0.53 &  0.59 &    0.57 &    0.97 &    0.96 \\\\\n",
      " agent &     16.0\\_32.0\\_8.0 &   0.85 &  0.69 &  0.74 &    0.69 &    0.95 &    0.77 \\\\\n",
      " agent &    16.0\\_64.0\\_16.0 &   0.87 &  0.68 &  0.76 &    0.67 &    0.95 &    0.74 \\\\\n",
      " agent &    16.0\\_64.0\\_32.0 &   0.88 &  0.69 &  0.78 &    0.66 &    0.93 &    0.74 \\\\\n",
      " agent &  16.0\\_128.0\\_128.0 &   0.89 &  0.71 &  0.80 &    0.63 &    0.95 &    0.90 \\\\\n",
      " agent &    32.0\\_64.0\\_16.0 &   0.88 &  0.71 &  0.78 &    0.82 &    0.93 &    0.74 \\\\\n",
      " agent &   32.0\\_128.0\\_32.0 &   0.89 &  0.74 &  0.80 &    0.80 &    0.95 &    0.75 \\\\\n",
      " agent &   32.0\\_128.0\\_64.0 &   0.92 &  0.78 &  0.84 &    0.77 &    0.91 &    0.71 \\\\\n",
      " agent &  32.0\\_256.0\\_256.0 &   0.97 &  0.86 &  0.90 &    0.68 &    0.88 &    0.79 \\\\\n",
      "\\bottomrule\n",
      "\\end{longtable}\n",
      "\n",
      "regular\n",
      "\\begin{longtable}{llllllll}\n",
      "\\toprule\n",
      "Method &          Topology & Accpt. &   CPU &   Mem & SR-Link & RA-Link & AC-Link \\\\\n",
      "\\midrule\n",
      " agent &      8.0\\_16.0\\_4.0 &   0.69 &  0.56 &  0.56 &    0.55 &    0.95 &    0.79 \\\\\n",
      " agent &      8.0\\_32.0\\_8.0 &   0.69 &  0.57 &  0.66 &    0.51 &    0.93 &    0.56 \\\\\n",
      " agent &     8.0\\_32.0\\_16.0 &   0.72 &  0.67 &  0.65 &    0.43 &    0.88 &    0.72 \\\\\n",
      " agent &     8.0\\_64.0\\_64.0 &   0.75 &  0.65 &  0.68 &    0.44 &    0.55 &    0.39 \\\\\n",
      " agent &     16.0\\_32.0\\_8.0 &   0.73 &  0.64 &  0.65 &    0.68 &    0.90 &    0.80 \\\\\n",
      " agent &    16.0\\_64.0\\_16.0 &   0.78 &  0.68 &  0.69 &    0.66 &    0.94 &    0.75 \\\\\n",
      " agent &    16.0\\_64.0\\_32.0 &   0.79 &  0.72 &  0.72 &    0.64 &    0.85 &    0.73 \\\\\n",
      " agent &  16.0\\_128.0\\_128.0 &   0.81 &  0.65 &  0.71 &    0.66 &    0.90 &    0.85 \\\\\n",
      " agent &    32.0\\_64.0\\_16.0 &   0.82 &  0.68 &  0.70 &    0.76 &    0.82 &    0.44 \\\\\n",
      " agent &   32.0\\_128.0\\_32.0 &   0.93 &  0.75 &  0.75 &    0.76 &    0.91 &    0.58 \\\\\n",
      " agent &   32.0\\_128.0\\_64.0 &   0.91 &  0.75 &  0.77 &    0.82 &    0.69 &    0.18 \\\\\n",
      " agent &  32.0\\_256.0\\_256.0 &   1.00 &  0.78 &  0.76 &    0.80 &    0.83 &    0.77 \\\\\n",
      "\\bottomrule\n",
      "\\end{longtable}\n",
      "\n"
     ]
    }
   ],
   "source": [
    "%autoreload\n",
    "print('large')\n",
    "table_data,packer_stats,oversub,topologies = gen_plot_data(packers=['agent'],path_root='/home/uceezs0/Code/nara_data/oversub_model/baselines')\n",
    "get_latex_table(table_data)\n",
    "print('regular')\n",
    "table_data,packer_stats,oversub,topologies = gen_plot_data(packers=['agent'],path_root='/home/uceezs0/Code/nara_data/uniform/baselines')\n",
    "get_latex_table(table_data)"
   ]
  },
  {
   "cell_type": "code",
   "execution_count": null,
   "metadata": {},
   "outputs": [],
   "source": []
  }
 ],
 "metadata": {
  "kernelspec": {
   "display_name": "Python 3",
   "language": "python",
   "name": "python3"
  },
  "language_info": {
   "codemirror_mode": {
    "name": "ipython",
    "version": 3
   },
   "file_extension": ".py",
   "mimetype": "text/x-python",
   "name": "python",
   "nbconvert_exporter": "python",
   "pygments_lexer": "ipython3",
   "version": "3.6.7"
  }
 },
 "nbformat": 4,
 "nbformat_minor": 2
}
